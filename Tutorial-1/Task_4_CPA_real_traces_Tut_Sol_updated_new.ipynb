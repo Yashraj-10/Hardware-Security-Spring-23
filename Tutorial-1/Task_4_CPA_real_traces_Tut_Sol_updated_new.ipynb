{
  "cells": [
    {
      "cell_type": "markdown",
      "metadata": {
        "id": "2LDQu-uGErMj"
      },
      "source": [
        "# **Task-4: CPA on Real Traces and Misaligned Traces**"
      ]
    },
    {
      "cell_type": "markdown",
      "metadata": {
        "id": "Pc9xwMgDE0aC"
      },
      "source": [
        "In this assignment, you shall repeat the Correlation Power Analysis (CPA) on real traces. The attack code is the same as you developed in the previous task. However, the traces here are different from the simulated traces. Unlike simulated traces, where you have one leakage value/leakage point (HW/HD) per round, here you shall see several leakage points per round. The number of leakage points depends on the sampling frequency of the oscilloscope. It is time-consuming to consider each leakage point in the trace for analysis. Hence, we shall focus on leakages corresponding to the final round of AES. It is straightforward to save only the last round traces from the oscilloscope.       \n",
        "\n",
        "In the second part of the assignment, you are asked to perform the same attack on misaligned traces. As you shall see, random misalignment works as a countermeasure for preventing CPA. "
      ]
    },
    {
      "attachments": {},
      "cell_type": "markdown",
      "metadata": {
        "id": "E45by_w75joi"
      },
      "source": [
        "# **Download the Prerequisites**"
      ]
    },
    {
      "cell_type": "code",
      "execution_count": null,
      "metadata": {
        "id": "2Y7lJzTDeL7F",
        "vscode": {
          "languageId": "python"
        }
      },
      "outputs": [],
      "source": [
        "!wget \"https://tinyurl.com/y2hzc7m2\"\n",
        "!unzip y2hzc7m2\n",
        "!rm y2hzc7m2"
      ]
    },
    {
      "cell_type": "markdown",
      "metadata": {
        "id": "z0Xfm3pICF_2"
      },
      "source": [
        "# **Part-1: Download Attack Traces (Option 1)**"
      ]
    },
    {
      "cell_type": "code",
      "execution_count": null,
      "metadata": {
        "id": "Q2-xA1fQo6IT",
        "vscode": {
          "languageId": "python"
        }
      },
      "outputs": [],
      "source": [
        "!wget \"https://tinyurl.com/y52fhdxs\"\n",
        "!unzip y52fhdxs\n",
        "!rm y52fhdxs"
      ]
    },
    {
      "cell_type": "markdown",
      "metadata": {
        "id": "rRnOIs7eCTSi"
      },
      "source": [
        "# **Part 2: Download Misaligned Traces (Option 1)**"
      ]
    },
    {
      "cell_type": "code",
      "execution_count": null,
      "metadata": {
        "id": "cJLe_xh18M5u",
        "vscode": {
          "languageId": "python"
        }
      },
      "outputs": [],
      "source": [
        "!wget \"https://tinyurl.com/yxev9dpk\"\n",
        "!unzip yxev9dpk\n",
        "!rm yxev9dpk"
      ]
    },
    {
      "cell_type": "markdown",
      "metadata": {
        "id": "5ak5aqu2Ce0e"
      },
      "source": [
        "# **Instructions (Part-1)**"
      ]
    },
    {
      "cell_type": "markdown",
      "metadata": {
        "id": "PqXb7UCJCjVF"
      },
      "source": [
        "There are two .py files in the folder \"Task_6_CPA_real_trace\".\n",
        "1. File \"aes.py\" is the AES implementation. \n",
        "\n",
        "2. File \"cpa_with_plot.py\" implements the CPA code. "
      ]
    },
    {
      "cell_type": "code",
      "execution_count": null,
      "metadata": {
        "id": "KOj0nLYde-1C",
        "vscode": {
          "languageId": "python"
        }
      },
      "outputs": [],
      "source": [
        "%run Task_6_CPA_real_trace_Sol/cpa_with_plot.py"
      ]
    },
    {
      "cell_type": "markdown",
      "metadata": {
        "id": "L00gyGVbEBWT"
      },
      "source": [
        "# **Instructions (Part-2)**"
      ]
    },
    {
      "cell_type": "markdown",
      "metadata": {
        "id": "q-JIGH7hEFzU"
      },
      "source": [
        "Run the same code on misaligned traces. You just need to uncomment line no. 54 and comment line no. 53 in the file \"cpa_with_plot.py\"."
      ]
    },
    {
      "cell_type": "code",
      "execution_count": null,
      "metadata": {
        "id": "pfDvafypD0I9",
        "vscode": {
          "languageId": "python"
        }
      },
      "outputs": [],
      "source": [
        "%run Task_6_CPA_real_trace_Sol/cpa_with_plot.py"
      ]
    }
  ],
  "metadata": {
    "colab": {
      "name": "Task_4_CPA_real_traces_Tut_Sol_updated_new.ipynb",
      "provenance": []
    },
    "kernelspec": {
      "display_name": "Python 3",
      "name": "python3"
    }
  },
  "nbformat": 4,
  "nbformat_minor": 0
}
